{
 "cells": [
  {
   "cell_type": "code",
   "execution_count": 1,
   "id": "9cf4973b-3787-4ec6-98bf-846c9787c949",
   "metadata": {},
   "outputs": [],
   "source": [
    "import pandas as pd\n",
    "import numpy as np\n",
    "from faker import Faker\n",
    "from datetime import datetime, timedelta\n",
    "import random"
   ]
  },
  {
   "cell_type": "code",
   "execution_count": 2,
   "id": "d0ac7638-ee16-415e-8210-239ab5e75880",
   "metadata": {},
   "outputs": [],
   "source": [
    "fake = Faker()"
   ]
  },
  {
   "cell_type": "code",
   "execution_count": 3,
   "id": "d8beab42-4751-4591-ab22-647083b2e732",
   "metadata": {},
   "outputs": [],
   "source": [
    "#Parameters\n",
    "num_orders = 100000  # Total rows\n",
    "num_delivery_persons = 400  # Number of delivery persons\n",
    "cities = [\"Mumbai\", \"Delhi\", \"Bangalore\", \"Chennai\", \"Hyderabad\", \"Kolkata\", \"Pune\", \"Kochi\"]\n",
    "start_date = datetime(2025, 1, 1)  # Start of the month\n",
    "end_date = datetime(2025, 1, 31)  # End of the month"
   ]
  },
  {
   "cell_type": "code",
   "execution_count": 4,
   "id": "72287af0-24bc-4d9d-bdc9-b0e12805cda2",
   "metadata": {},
   "outputs": [],
   "source": [
    "# Assign each delivery person to only one city (dictionary)\n",
    "delivery_persons = {f\"D{str(i).zfill(4)}\": random.choice(cities) for i in range(1, num_delivery_persons + 1)}"
   ]
  },
  {
   "cell_type": "code",
   "execution_count": 5,
   "id": "510c4c5f-6f44-490d-8711-b0ed539f1cb6",
   "metadata": {},
   "outputs": [],
   "source": [
    "# Defining Peak Hour Probability Weights (higher chance during 12-3 PM & 7-10 PM)\n",
    "hourly_weights = np.array([0.05] * 11 + [0.15] * 3 + [0.05] * 4 + [0.15] * 3 + [0.05] * 3)\n",
    "hourly_weights /= hourly_weights.sum()  # Normalize to sum to 1"
   ]
  },
  {
   "cell_type": "code",
   "execution_count": 6,
   "id": "754a55b8-f486-4447-bb90-4e397e5e7994",
   "metadata": {},
   "outputs": [],
   "source": [
    "# Defining Order Quantity Probability Distribution (Higher for 2-5 items)\n",
    "order_quantity_choices = [1, 2, 3, 4, 5, 6, 7, 8, 9, 10]\n",
    "order_quantity_probs = np.array([0.10, 0.20, 0.20, 0.15, 0.15, 0.10, 0.10, 0.05, 0.05, 0.05])\n",
    "order_quantity_probs /= order_quantity_probs.sum()  # Normalize to exactly 1"
   ]
  },
  {
   "cell_type": "code",
   "execution_count": 7,
   "id": "f994363b-970a-4984-95f1-dc709696ad10",
   "metadata": {},
   "outputs": [],
   "source": [
    "orders = []\n",
    "for i in range(1, num_orders + 1):\n",
    "    order_id = f\"O{str(i).zfill(6)}\"\n",
    "    \n",
    "    # Select a delivery person and get their assigned city\n",
    "    delivery_person_id = random.choice(list(delivery_persons.keys())) \n",
    "    city = delivery_persons[delivery_person_id] \n",
    "    \n",
    "    # Order Quantity: Weighted selection\n",
    "    order_quantity = np.random.choice(order_quantity_choices, p=order_quantity_probs)\n",
    "\n",
    "    # Base Order Value: Normally distributed price per item (₹250 mean, ₹100 std)\n",
    "    base_value = np.random.normal(250, 100, 1)[0]\n",
    "\n",
    "    # Scaling Factor based on Quantity (higher quantity → discount per item)\n",
    "    scaling_factor = 1.2 if order_quantity <= 2 else (1.5 if order_quantity <= 5 else (1.8 if order_quantity <= 8 else 2.5))\n",
    "\n",
    "    # Final Order Value Calculation (Clipped between ₹50 - ₹1500)\n",
    "    order_value = max(50, min(1500, base_value * order_quantity * (np.random.uniform(0.9, 1.1) * scaling_factor)))\n",
    "    order_value = round(order_value, 3)\n",
    "\n",
    "    # Order Time: More likely during peak hours\n",
    "    order_date = fake.date_between(start_date=start_date, end_date=end_date)\n",
    "    order_hour = np.random.choice(range(24), p=hourly_weights)  # Weighted selection\n",
    "    order_minute = np.random.randint(0, 60)\n",
    "    order_time = datetime(order_date.year, order_date.month, order_date.day, order_hour, order_minute)\n",
    "\n",
    "    # Delivery Time: Random delay of 20-90 minutes\n",
    "    delivery_time = order_time + timedelta(minutes=np.random.randint(20, 90))\n",
    "\n",
    "    # Order Rating: More 4s and 5s\n",
    "    order_rating = np.random.choice([1, 2, 3, 4, 5], p=[0.05, 0.1, 0.25, 0.35, 0.25])\n",
    "\n",
    "    orders.append([delivery_person_id, order_id, order_value, order_quantity, city, order_time, delivery_time, order_rating])"
   ]
  },
  {
   "cell_type": "code",
   "execution_count": 8,
   "id": "98bd394d-f3e6-4316-8e73-1b91fdbcd4d2",
   "metadata": {},
   "outputs": [],
   "source": [
    "df = pd.DataFrame(orders, columns=[\"delivery_person_id\", \"order_id\", \"order_value\", \"order_quantity\", \"city\", \"order_timestamp\", \"delivery_timestamp\", \"order_rating\"])"
   ]
  },
  {
   "cell_type": "code",
   "execution_count": 9,
   "id": "2ab08ca3-bc75-4eac-a708-e03952f97728",
   "metadata": {},
   "outputs": [
    {
     "data": {
      "text/html": [
       "<div>\n",
       "<style scoped>\n",
       "    .dataframe tbody tr th:only-of-type {\n",
       "        vertical-align: middle;\n",
       "    }\n",
       "\n",
       "    .dataframe tbody tr th {\n",
       "        vertical-align: top;\n",
       "    }\n",
       "\n",
       "    .dataframe thead th {\n",
       "        text-align: right;\n",
       "    }\n",
       "</style>\n",
       "<table border=\"1\" class=\"dataframe\">\n",
       "  <thead>\n",
       "    <tr style=\"text-align: right;\">\n",
       "      <th></th>\n",
       "      <th>delivery_person_id</th>\n",
       "      <th>order_id</th>\n",
       "      <th>order_value</th>\n",
       "      <th>order_quantity</th>\n",
       "      <th>city</th>\n",
       "      <th>order_timestamp</th>\n",
       "      <th>delivery_timestamp</th>\n",
       "      <th>order_rating</th>\n",
       "    </tr>\n",
       "  </thead>\n",
       "  <tbody>\n",
       "    <tr>\n",
       "      <th>0</th>\n",
       "      <td>D0325</td>\n",
       "      <td>O000001</td>\n",
       "      <td>1455.754</td>\n",
       "      <td>4</td>\n",
       "      <td>Kochi</td>\n",
       "      <td>2025-01-16 18:27:00</td>\n",
       "      <td>2025-01-16 19:09:00</td>\n",
       "      <td>3</td>\n",
       "    </tr>\n",
       "    <tr>\n",
       "      <th>1</th>\n",
       "      <td>D0153</td>\n",
       "      <td>O000002</td>\n",
       "      <td>617.571</td>\n",
       "      <td>5</td>\n",
       "      <td>Kolkata</td>\n",
       "      <td>2025-01-27 11:18:00</td>\n",
       "      <td>2025-01-27 12:08:00</td>\n",
       "      <td>4</td>\n",
       "    </tr>\n",
       "    <tr>\n",
       "      <th>2</th>\n",
       "      <td>D0265</td>\n",
       "      <td>O000003</td>\n",
       "      <td>183.420</td>\n",
       "      <td>1</td>\n",
       "      <td>Kolkata</td>\n",
       "      <td>2025-01-06 19:27:00</td>\n",
       "      <td>2025-01-06 20:48:00</td>\n",
       "      <td>3</td>\n",
       "    </tr>\n",
       "    <tr>\n",
       "      <th>3</th>\n",
       "      <td>D0222</td>\n",
       "      <td>O000004</td>\n",
       "      <td>157.547</td>\n",
       "      <td>4</td>\n",
       "      <td>Kochi</td>\n",
       "      <td>2025-01-28 09:58:00</td>\n",
       "      <td>2025-01-28 10:51:00</td>\n",
       "      <td>1</td>\n",
       "    </tr>\n",
       "    <tr>\n",
       "      <th>4</th>\n",
       "      <td>D0187</td>\n",
       "      <td>O000005</td>\n",
       "      <td>1500.000</td>\n",
       "      <td>6</td>\n",
       "      <td>Mumbai</td>\n",
       "      <td>2025-01-28 18:46:00</td>\n",
       "      <td>2025-01-28 19:24:00</td>\n",
       "      <td>3</td>\n",
       "    </tr>\n",
       "  </tbody>\n",
       "</table>\n",
       "</div>"
      ],
      "text/plain": [
       "  delivery_person_id order_id  order_value  order_quantity     city  \\\n",
       "0              D0325  O000001     1455.754               4    Kochi   \n",
       "1              D0153  O000002      617.571               5  Kolkata   \n",
       "2              D0265  O000003      183.420               1  Kolkata   \n",
       "3              D0222  O000004      157.547               4    Kochi   \n",
       "4              D0187  O000005     1500.000               6   Mumbai   \n",
       "\n",
       "      order_timestamp  delivery_timestamp  order_rating  \n",
       "0 2025-01-16 18:27:00 2025-01-16 19:09:00             3  \n",
       "1 2025-01-27 11:18:00 2025-01-27 12:08:00             4  \n",
       "2 2025-01-06 19:27:00 2025-01-06 20:48:00             3  \n",
       "3 2025-01-28 09:58:00 2025-01-28 10:51:00             1  \n",
       "4 2025-01-28 18:46:00 2025-01-28 19:24:00             3  "
      ]
     },
     "execution_count": 9,
     "metadata": {},
     "output_type": "execute_result"
    }
   ],
   "source": [
    "df.head()"
   ]
  },
  {
   "cell_type": "code",
   "execution_count": 10,
   "id": "52d1a0c8-7697-4e91-a4ef-3b698aa86e6b",
   "metadata": {},
   "outputs": [],
   "source": [
    "df.to_csv(\"C:/Users/DELL/Downloads/Swiggy Case Study/swiggy_orders_final.csv\", index=False)"
   ]
  }
 ],
 "metadata": {
  "kernelspec": {
   "display_name": "Python 3 (ipykernel)",
   "language": "python",
   "name": "python3"
  },
  "language_info": {
   "codemirror_mode": {
    "name": "ipython",
    "version": 3
   },
   "file_extension": ".py",
   "mimetype": "text/x-python",
   "name": "python",
   "nbconvert_exporter": "python",
   "pygments_lexer": "ipython3",
   "version": "3.12.7"
  }
 },
 "nbformat": 4,
 "nbformat_minor": 5
}
